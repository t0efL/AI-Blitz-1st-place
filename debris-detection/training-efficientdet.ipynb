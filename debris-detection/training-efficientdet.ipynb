{
 "cells": [
  {
   "cell_type": "markdown",
   "metadata": {
    "papermill": {
     "duration": 0.023111,
     "end_time": "2021-03-22T11:29:14.074523",
     "exception": false,
     "start_time": "2021-03-22T11:29:14.051412",
     "status": "completed"
    },
    "tags": []
   },
   "source": [
    "# Really good training pipeline for pytorch EfficientDet \n",
    "\n",
    "Hi everyone!\n",
    "\n",
    "My name is Alex Shonenkov, I am DL/NLP/CV/TS research engineer. Especially I am in Love with NLP & DL.\n",
    "\n",
    "Recently I have created kernel for this competition about Weighted Boxes Fusion:\n",
    "- [WBF approach for ensemble](https://www.kaggle.com/shonenkov/wbf-approach-for-ensemble)\n",
    "\n",
    "\n",
    "I hope it is useful for you, my friends! If you didn't read this kernel, don't forget to do it! :)\n",
    "\n",
    "\n",
    "Today I would like to share really good training pipeline for this competition using SOTA [EfficientDet: Scalable and Efficient Object Detection](https://arxiv.org/pdf/1911.09070.pdf)"
   ]
  },
  {
   "cell_type": "markdown",
   "metadata": {
    "papermill": {
     "duration": 0.021204,
     "end_time": "2021-03-22T11:29:14.117249",
     "exception": false,
     "start_time": "2021-03-22T11:29:14.096045",
     "status": "completed"
    },
    "tags": []
   },
   "source": [
    "## Main Idea\n",
    " \n",
    "I read [all public kernels about EfficientDet in kaggle community](https://www.kaggle.com/search?q=efficientdet+in%3Anotebooks) and understand that kaggle don't have really good working public kernels with good score. Why? You can see below picture about COCO AP for different architectures, I think everyone should be able to use such a strong tools EfficientDet for own research, lets do it!\n",
    "\n",
    "<img src='https://miro.medium.com/max/2400/0*ApAKUWtseHcvRV2U.png' width=400>   \n",
    "\n"
   ]
  },
  {
   "cell_type": "code",
   "execution_count": 1,
   "metadata": {
    "execution": {
     "iopub.execute_input": "2021-03-22T11:29:14.165948Z",
     "iopub.status.busy": "2021-03-22T11:29:14.164923Z",
     "iopub.status.idle": "2021-03-22T11:29:14.168732Z",
     "shell.execute_reply": "2021-03-22T11:29:14.168169Z"
    },
    "papermill": {
     "duration": 0.029799,
     "end_time": "2021-03-22T11:29:14.168857",
     "exception": false,
     "start_time": "2021-03-22T11:29:14.139058",
     "status": "completed"
    },
    "tags": []
   },
   "outputs": [],
   "source": [
    "# !pip install aicrowd-cli"
   ]
  },
  {
   "cell_type": "code",
   "execution_count": 2,
   "metadata": {
    "execution": {
     "iopub.execute_input": "2021-03-22T11:29:14.221436Z",
     "iopub.status.busy": "2021-03-22T11:29:14.218880Z",
     "iopub.status.idle": "2021-03-22T11:29:14.222223Z",
     "shell.execute_reply": "2021-03-22T11:29:14.222866Z"
    },
    "papermill": {
     "duration": 0.031676,
     "end_time": "2021-03-22T11:29:14.222988",
     "exception": false,
     "start_time": "2021-03-22T11:29:14.191312",
     "status": "completed"
    },
    "tags": []
   },
   "outputs": [],
   "source": [
    "# API_KEY = \"47692702737f319b9f70a130ec5707d9\" \n",
    "# !aicrowd login --api-key $API_KEY"
   ]
  },
  {
   "cell_type": "code",
   "execution_count": 3,
   "metadata": {
    "execution": {
     "iopub.execute_input": "2021-03-22T11:29:14.271090Z",
     "iopub.status.busy": "2021-03-22T11:29:14.270443Z",
     "iopub.status.idle": "2021-03-22T11:29:14.274631Z",
     "shell.execute_reply": "2021-03-22T11:29:14.275347Z"
    },
    "papermill": {
     "duration": 0.030455,
     "end_time": "2021-03-22T11:29:14.275506",
     "exception": false,
     "start_time": "2021-03-22T11:29:14.245051",
     "status": "completed"
    },
    "tags": []
   },
   "outputs": [],
   "source": [
    "# !aicrowd dataset download --challenge debris-detection\n",
    "\n",
    "# !rm -rf data\n",
    "# !mkdir data\n",
    "\n",
    "# !unzip train.zip -d data/train > /dev/null\n",
    "\n",
    "# !unzip val.zip -d data/val > /dev/null\n",
    "\n",
    "# !unzip test.zip -d data/test > /dev/null\n",
    "\n",
    "# !mv train.csv data/train.csv\n",
    "# !mv val.csv data/val.csv"
   ]
  },
  {
   "cell_type": "markdown",
   "metadata": {
    "papermill": {
     "duration": 0.022434,
     "end_time": "2021-03-22T11:29:14.321028",
     "exception": false,
     "start_time": "2021-03-22T11:29:14.298594",
     "status": "completed"
    },
    "tags": []
   },
   "source": [
    "## Dependencies and imports\n",
    "\n",
    "In this kernel used github repos [efficientdet-pytorch](https://github.com/rwightman/efficientdet-pytorch) and [pytorch-image-models](https://github.com/rwightman/pytorch-image-models) by [@rwightman](https://www.kaggle.com/rwightman). Don't forget add stars ;)"
   ]
  },
  {
   "cell_type": "code",
   "execution_count": 4,
   "metadata": {
    "_cell_guid": "79c7e3d0-c299-4dcb-8224-4455121ee9b0",
    "_kg_hide-input": true,
    "_kg_hide-output": true,
    "_uuid": "d629ff2d2480ee46fbb7e2d37f6b5fab8052498a",
    "execution": {
     "iopub.execute_input": "2021-03-22T11:29:14.376089Z",
     "iopub.status.busy": "2021-03-22T11:29:14.375069Z",
     "iopub.status.idle": "2021-03-22T11:29:22.153753Z",
     "shell.execute_reply": "2021-03-22T11:29:22.152769Z"
    },
    "papermill": {
     "duration": 7.81011,
     "end_time": "2021-03-22T11:29:22.153874",
     "exception": false,
     "start_time": "2021-03-22T11:29:14.343764",
     "status": "completed"
    },
    "tags": []
   },
   "outputs": [
    {
     "name": "stdout",
     "output_type": "stream",
     "text": [
      "\u001b[33mWARNING: You are using pip version 20.1; however, version 21.0.1 is available.\r\n",
      "You should consider upgrading via the '/opt/conda/bin/python3.7 -m pip install --upgrade pip' command.\u001b[0m\r\n",
      "\u001b[33mWARNING: You are using pip version 20.1; however, version 21.0.1 is available.\r\n",
      "You should consider upgrading via the '/opt/conda/bin/python3.7 -m pip install --upgrade pip' command.\u001b[0m\r\n"
     ]
    }
   ],
   "source": [
    "!pip install --no-deps '../input/timm-package/timm-0.1.26-py3-none-any.whl' > /dev/null\n",
    "!pip install --no-deps '../input/pycocotools/pycocotools-2.0-cp37-cp37m-linux_x86_64.whl' > /dev/null"
   ]
  },
  {
   "cell_type": "code",
   "execution_count": 5,
   "metadata": {
    "_kg_hide-input": true,
    "_kg_hide-output": true,
    "execution": {
     "iopub.execute_input": "2021-03-22T11:29:22.213665Z",
     "iopub.status.busy": "2021-03-22T11:29:22.212845Z",
     "iopub.status.idle": "2021-03-22T11:29:25.941093Z",
     "shell.execute_reply": "2021-03-22T11:29:25.939183Z"
    },
    "papermill": {
     "duration": 3.762974,
     "end_time": "2021-03-22T11:29:25.941280",
     "exception": false,
     "start_time": "2021-03-22T11:29:22.178306",
     "status": "completed"
    },
    "tags": []
   },
   "outputs": [],
   "source": [
    "import sys\n",
    "sys.path.insert(0, \"../input/timm-efficientdet-pytorch\")\n",
    "sys.path.insert(0, \"../input/omegaconf\")\n",
    "\n",
    "import torch\n",
    "import os\n",
    "from datetime import datetime\n",
    "import time\n",
    "import random\n",
    "import cv2\n",
    "import pandas as pd\n",
    "import numpy as np\n",
    "import albumentations as A\n",
    "import matplotlib.pyplot as plt\n",
    "from albumentations.pytorch.transforms import ToTensorV2\n",
    "from sklearn.model_selection import StratifiedKFold\n",
    "from torch.utils.data import Dataset,DataLoader\n",
    "from torch.utils.data.sampler import SequentialSampler, RandomSampler\n",
    "from glob import glob\n",
    "\n",
    "SEED = 42\n",
    "\n",
    "def seed_everything(seed):\n",
    "    random.seed(seed)\n",
    "    os.environ['PYTHONHASHSEED'] = str(seed)\n",
    "    np.random.seed(seed)\n",
    "    torch.manual_seed(seed)\n",
    "    torch.cuda.manual_seed(seed)\n",
    "    torch.backends.cudnn.deterministic = True\n",
    "    torch.backends.cudnn.benchmark = True\n",
    "\n",
    "seed_everything(SEED)\n"
   ]
  },
  {
   "cell_type": "code",
   "execution_count": 6,
   "metadata": {
    "execution": {
     "iopub.execute_input": "2021-03-22T11:29:26.005011Z",
     "iopub.status.busy": "2021-03-22T11:29:26.004261Z",
     "iopub.status.idle": "2021-03-22T11:38:50.519715Z",
     "shell.execute_reply": "2021-03-22T11:38:50.517868Z"
    },
    "papermill": {
     "duration": 564.555325,
     "end_time": "2021-03-22T11:38:50.520124",
     "exception": false,
     "start_time": "2021-03-22T11:29:25.964799",
     "status": "completed"
    },
    "tags": []
   },
   "outputs": [
    {
     "name": "stderr",
     "output_type": "stream",
     "text": [
      "100%|██████████| 22000/22000 [09:24<00:00, 38.98it/s]\n"
     ]
    }
   ],
   "source": [
    "from tqdm import tqdm\n",
    "import ast\n",
    "\n",
    "df = pd.read_csv('../input/fulldata/full_dataset/fulldata.csv')\n",
    "\n",
    "marking = pd.DataFrame(columns=['image_id', \"bbox\"])\n",
    "for i in tqdm(range(len(df))):\n",
    "    a = df.iloc[i]\n",
    "    for bbox in ast.literal_eval(a[\"bboxes\"]):\n",
    "        marking = marking.append({'image_id': a[\"ImageID\"], \"bbox\": bbox}, ignore_index=True)"
   ]
  },
  {
   "cell_type": "code",
   "execution_count": 7,
   "metadata": {
    "execution": {
     "iopub.execute_input": "2021-03-22T11:38:54.335424Z",
     "iopub.status.busy": "2021-03-22T11:38:54.334593Z",
     "iopub.status.idle": "2021-03-22T11:38:54.339594Z",
     "shell.execute_reply": "2021-03-22T11:38:54.340165Z"
    },
    "papermill": {
     "duration": 1.667336,
     "end_time": "2021-03-22T11:38:54.340332",
     "exception": false,
     "start_time": "2021-03-22T11:38:52.672996",
     "status": "completed"
    },
    "tags": []
   },
   "outputs": [
    {
     "name": "stdout",
     "output_type": "stream",
     "text": [
      "      image_id                  bbox\n",
      "0            0    [282, 308, 58, 86]\n",
      "1            0  [228, 256, 191, 218]\n",
      "2            0  [101, 133, 203, 225]\n",
      "3            0   [81, 112, 466, 494]\n",
      "4            0  [442, 474, 277, 305]\n",
      "...        ...                   ...\n",
      "82791    21998  [430, 463, 400, 428]\n",
      "82792    21998  [251, 278, 290, 320]\n",
      "82793    21999  [393, 417, 391, 417]\n",
      "82794    21999  [413, 439, 339, 369]\n",
      "82795    21999    [45, 75, 155, 187]\n",
      "\n",
      "[82796 rows x 2 columns]\n"
     ]
    }
   ],
   "source": [
    "print(marking)"
   ]
  },
  {
   "cell_type": "code",
   "execution_count": 8,
   "metadata": {
    "execution": {
     "iopub.execute_input": "2021-03-22T11:38:57.814191Z",
     "iopub.status.busy": "2021-03-22T11:38:57.799044Z",
     "iopub.status.idle": "2021-03-22T11:38:57.861859Z",
     "shell.execute_reply": "2021-03-22T11:38:57.861287Z"
    },
    "papermill": {
     "duration": 1.885965,
     "end_time": "2021-03-22T11:38:57.861978",
     "exception": false,
     "start_time": "2021-03-22T11:38:55.976013",
     "status": "completed"
    },
    "tags": []
   },
   "outputs": [],
   "source": [
    "marking[\"bbox\"] = [[bbox[0], bbox[2], bbox[1]-bbox[0], bbox[3]-bbox[2]] for bbox in marking[\"bbox\"].values]"
   ]
  },
  {
   "cell_type": "code",
   "execution_count": 9,
   "metadata": {
    "execution": {
     "iopub.execute_input": "2021-03-22T11:39:01.202542Z",
     "iopub.status.busy": "2021-03-22T11:39:01.197728Z",
     "iopub.status.idle": "2021-03-22T11:39:01.841488Z",
     "shell.execute_reply": "2021-03-22T11:39:01.842954Z"
    },
    "papermill": {
     "duration": 2.329711,
     "end_time": "2021-03-22T11:39:01.843205",
     "exception": false,
     "start_time": "2021-03-22T11:38:59.513494",
     "status": "completed"
    },
    "tags": []
   },
   "outputs": [],
   "source": [
    "bboxs = np.stack(marking['bbox'])\n",
    "for i, column in enumerate(['x', 'y', 'w', 'h']):\n",
    "    marking[column] = bboxs[:,i]\n",
    "marking.drop(columns=['bbox'], inplace=True)"
   ]
  },
  {
   "cell_type": "code",
   "execution_count": 10,
   "metadata": {
    "execution": {
     "iopub.execute_input": "2021-03-22T11:39:05.483233Z",
     "iopub.status.busy": "2021-03-22T11:39:05.481035Z",
     "iopub.status.idle": "2021-03-22T11:39:05.483931Z",
     "shell.execute_reply": "2021-03-22T11:39:05.484459Z"
    },
    "papermill": {
     "duration": 1.675917,
     "end_time": "2021-03-22T11:39:05.484594",
     "exception": false,
     "start_time": "2021-03-22T11:39:03.808677",
     "status": "completed"
    },
    "tags": []
   },
   "outputs": [],
   "source": [
    "marking[\"source\"] = [\"usask_1\" for i in range(len(marking))]"
   ]
  },
  {
   "cell_type": "markdown",
   "metadata": {
    "papermill": {
     "duration": 1.650948,
     "end_time": "2021-03-22T11:39:08.863925",
     "exception": false,
     "start_time": "2021-03-22T11:39:07.212977",
     "status": "completed"
    },
    "tags": []
   },
   "source": [
    "About data splitting you can read [here](https://www.kaggle.com/shonenkov/wbf-approach-for-ensemble):"
   ]
  },
  {
   "cell_type": "code",
   "execution_count": 11,
   "metadata": {
    "_kg_hide-output": true,
    "execution": {
     "iopub.execute_input": "2021-03-22T11:39:12.166415Z",
     "iopub.status.busy": "2021-03-22T11:39:12.165041Z",
     "iopub.status.idle": "2021-03-22T11:39:16.877793Z",
     "shell.execute_reply": "2021-03-22T11:39:16.876887Z"
    },
    "papermill": {
     "duration": 6.370093,
     "end_time": "2021-03-22T11:39:16.877968",
     "exception": false,
     "start_time": "2021-03-22T11:39:10.507875",
     "status": "completed"
    },
    "tags": []
   },
   "outputs": [],
   "source": [
    "skf = StratifiedKFold(n_splits=5, shuffle=True, random_state=42)\n",
    "\n",
    "df_folds = marking[['image_id']].copy()\n",
    "df_folds.loc[:, 'bbox_count'] = 1\n",
    "df_folds = df_folds.groupby('image_id').count()\n",
    "df_folds.loc[:, 'source'] = marking[['image_id', 'source']].groupby('image_id').min()['source']\n",
    "df_folds.loc[:, 'stratify_group'] = np.char.add(\n",
    "    df_folds['source'].values.astype(str),\n",
    "    df_folds['bbox_count'].apply(lambda x: f'_{x // 15}').values.astype(str)\n",
    ")\n",
    "df_folds.loc[:, 'fold'] = 0\n",
    "\n",
    "for fold_number, (train_index, val_index) in enumerate(skf.split(X=df_folds.index, y=df_folds['stratify_group'])):\n",
    "    df_folds.loc[df_folds.iloc[val_index].index, 'fold'] = fold_number"
   ]
  },
  {
   "cell_type": "markdown",
   "metadata": {
    "papermill": {
     "duration": 2.055119,
     "end_time": "2021-03-22T11:39:20.625057",
     "exception": false,
     "start_time": "2021-03-22T11:39:18.569938",
     "status": "completed"
    },
    "tags": []
   },
   "source": [
    "## Albumentations"
   ]
  },
  {
   "cell_type": "code",
   "execution_count": 12,
   "metadata": {
    "execution": {
     "iopub.execute_input": "2021-03-22T11:39:25.038050Z",
     "iopub.status.busy": "2021-03-22T11:39:25.037007Z",
     "iopub.status.idle": "2021-03-22T11:39:25.040764Z",
     "shell.execute_reply": "2021-03-22T11:39:25.040198Z"
    },
    "papermill": {
     "duration": 2.399327,
     "end_time": "2021-03-22T11:39:25.040896",
     "exception": false,
     "start_time": "2021-03-22T11:39:22.641569",
     "status": "completed"
    },
    "tags": []
   },
   "outputs": [],
   "source": [
    "def get_train_transforms():\n",
    "    return A.Compose(\n",
    "        [\n",
    "#             A.RandomSizedCrop(min_max_height=(800, 800), height=1024, width=1024, p=0.5),\n",
    "            A.OneOf([\n",
    "                A.HueSaturationValue(hue_shift_limit=0.2, sat_shift_limit= 0.2, \n",
    "                                     val_shift_limit=0.2, p=0.9),\n",
    "                A.RandomBrightnessContrast(brightness_limit=0.2, \n",
    "                                           contrast_limit=0.2, p=0.9),\n",
    "            ],p=0.9),\n",
    "            A.ToGray(p=0.01),\n",
    "            A.HorizontalFlip(p=0.5),\n",
    "            A.VerticalFlip(p=0.5),\n",
    "            A.Resize(height=256, width=256, p=1),\n",
    "#             A.Cutout(num_holes=8, max_h_size=64, max_w_size=64, fill_value=0, p=0.5),\n",
    "            ToTensorV2(p=1.0),\n",
    "        ], \n",
    "        p=1.0, \n",
    "        bbox_params=A.BboxParams(\n",
    "            format='pascal_voc',\n",
    "            min_area=0, \n",
    "            min_visibility=0,\n",
    "            label_fields=['labels']\n",
    "        )\n",
    "    )\n",
    "\n",
    "def get_valid_transforms():\n",
    "    return A.Compose(\n",
    "        [\n",
    "            A.Resize(height=256, width=256, p=1.0),\n",
    "            ToTensorV2(p=1.0),\n",
    "        ], \n",
    "        p=1.0, \n",
    "        bbox_params=A.BboxParams(\n",
    "            format='pascal_voc',\n",
    "            min_area=0, \n",
    "            min_visibility=0,\n",
    "            label_fields=['labels']\n",
    "        )\n",
    "    )"
   ]
  },
  {
   "cell_type": "markdown",
   "metadata": {
    "papermill": {
     "duration": 1.652194,
     "end_time": "2021-03-22T11:39:28.380861",
     "exception": false,
     "start_time": "2021-03-22T11:39:26.728667",
     "status": "completed"
    },
    "tags": []
   },
   "source": [
    "## Dataset"
   ]
  },
  {
   "cell_type": "code",
   "execution_count": 13,
   "metadata": {
    "execution": {
     "iopub.execute_input": "2021-03-22T11:39:31.729336Z",
     "iopub.status.busy": "2021-03-22T11:39:31.728234Z",
     "iopub.status.idle": "2021-03-22T11:39:31.731074Z",
     "shell.execute_reply": "2021-03-22T11:39:31.731585Z"
    },
    "papermill": {
     "duration": 1.676338,
     "end_time": "2021-03-22T11:39:31.731724",
     "exception": false,
     "start_time": "2021-03-22T11:39:30.055386",
     "status": "completed"
    },
    "tags": []
   },
   "outputs": [],
   "source": [
    "def check_bbox(BBOX):\n",
    "    \"\"\"Check if bbox boundaries are in range 0, 1 and minimums are lesser then maximums\"\"\"\n",
    "   #my added block \n",
    "    bboxes = []\n",
    "    for bbox in BBOX:\n",
    "        bbox=list(bbox)\n",
    "        for i in range(4):\n",
    "          if (bbox[i]<0) :\n",
    "            bbox[i]=0\n",
    "          elif (bbox[i]>256) :\n",
    "            bbox[i]=256\n",
    "        bboxes.append(list(bbox))\n",
    "    return bboxes"
   ]
  },
  {
   "cell_type": "code",
   "execution_count": 14,
   "metadata": {
    "execution": {
     "iopub.execute_input": "2021-03-22T11:39:35.699800Z",
     "iopub.status.busy": "2021-03-22T11:39:35.689451Z",
     "iopub.status.idle": "2021-03-22T11:39:35.718660Z",
     "shell.execute_reply": "2021-03-22T11:39:35.718107Z"
    },
    "papermill": {
     "duration": 2.314374,
     "end_time": "2021-03-22T11:39:35.718781",
     "exception": false,
     "start_time": "2021-03-22T11:39:33.404407",
     "status": "completed"
    },
    "tags": []
   },
   "outputs": [],
   "source": [
    "TRAIN_ROOT_PATH = '../input/fulldata/full_dataset/train'\n",
    "\n",
    "class DatasetRetriever(Dataset):\n",
    "\n",
    "    def __init__(self, marking, image_ids, transforms=None, test=False):\n",
    "        super().__init__()\n",
    "\n",
    "        self.image_ids = image_ids\n",
    "        self.marking = marking\n",
    "        self.transforms = transforms\n",
    "        self.test = test\n",
    "\n",
    "    def __getitem__(self, index: int):\n",
    "        image_id = self.image_ids[index]\n",
    "        \n",
    "        if self.test or random.random() > 0:\n",
    "            image, boxes = self.load_image_and_boxes(index)\n",
    "        else:\n",
    "             image, boxes = self.load_cutmix_image_and_boxes(index)\n",
    "\n",
    "        # there is only one class\n",
    "        labels = torch.ones((boxes.shape[0],), dtype=torch.int64)\n",
    "        \n",
    "        target = {}\n",
    "\n",
    "        target['boxes'] = boxes\n",
    "        target['labels'] = labels\n",
    "        target['image_id'] = torch.tensor([index])\n",
    "\n",
    "        if self.transforms:\n",
    "            for i in range(10):\n",
    "                sample = self.transforms(**{\n",
    "                    'image': image,\n",
    "                    'bboxes': target['boxes'],\n",
    "                    'labels': labels\n",
    "                })\n",
    "                if len(sample['bboxes']) > 0:\n",
    "                    image = sample['image']\n",
    "                    target['boxes'] = torch.stack(tuple(map(torch.tensor, zip(*sample['bboxes'])))).permute(1, 0)\n",
    "                    target['boxes'][:,[0,1,2,3]] = target['boxes'][:,[1,0,3,2]]  #yxyx: be warning\n",
    "                    break\n",
    "        \n",
    "        image = torch.FloatTensor(image)\n",
    "        \n",
    "        if image.shape[2] == 3:\n",
    "            image = image.permute(2, 0, 1)\n",
    "\n",
    "        return image, target, image_id\n",
    "\n",
    "    def __len__(self) -> int:\n",
    "        return self.image_ids.shape[0]\n",
    "\n",
    "    def load_image_and_boxes(self, index):\n",
    "        image_id = self.image_ids[index]\n",
    "        image = cv2.imread(f'{TRAIN_ROOT_PATH}/{image_id}.jpg', cv2.IMREAD_COLOR)\n",
    "        image = cv2.cvtColor(image, cv2.COLOR_BGR2RGB).astype(np.float32)\n",
    "        image /= 255.0\n",
    "        records = self.marking[self.marking['image_id'] == image_id]\n",
    "        boxes = records[['x', 'y', 'w', 'h']].values\n",
    "        boxes[:, 2] = boxes[:, 0] + boxes[:, 2]\n",
    "        boxes[:, 3] = boxes[:, 1] + boxes[:, 3]\n",
    "        return image, boxes\n",
    "\n",
    "    def load_cutmix_image_and_boxes(self, index, imsize=256):\n",
    "        \"\"\" \n",
    "        This implementation of cutmix author:  https://www.kaggle.com/nvnnghia \n",
    "        Refactoring and adaptation: https://www.kaggle.com/shonenkov\n",
    "        \"\"\"\n",
    "        w, h = imsize, imsize\n",
    "        s = imsize // 2\n",
    "    \n",
    "        xc, yc = [int(random.uniform(imsize * 0.25, imsize * 0.75)) for _ in range(2)]  # center x, y\n",
    "        indexes = [index] + [random.randint(0, self.image_ids.shape[0] - 1) for _ in range(3)]\n",
    "\n",
    "        result_image = np.full((imsize, imsize, 3), 1, dtype=np.float32)\n",
    "        result_boxes = []\n",
    "\n",
    "        for i, index in enumerate(indexes):\n",
    "            image, boxes = self.load_image_and_boxes(index)\n",
    "            if i == 0:\n",
    "                x1a, y1a, x2a, y2a = max(xc - w, 0), max(yc - h, 0), xc, yc  # xmin, ymin, xmax, ymax (large image)\n",
    "                x1b, y1b, x2b, y2b = w - (x2a - x1a), h - (y2a - y1a), w, h  # xmin, ymin, xmax, ymax (small image)\n",
    "            elif i == 1:  # top right\n",
    "                x1a, y1a, x2a, y2a = xc, max(yc - h, 0), min(xc + w, s * 2), yc\n",
    "                x1b, y1b, x2b, y2b = 0, h - (y2a - y1a), min(w, x2a - x1a), h\n",
    "            elif i == 2:  # bottom left\n",
    "                x1a, y1a, x2a, y2a = max(xc - w, 0), yc, xc, min(s * 2, yc + h)\n",
    "                x1b, y1b, x2b, y2b = w - (x2a - x1a), 0, max(xc, w), min(y2a - y1a, h)\n",
    "            elif i == 3:  # bottom right\n",
    "                x1a, y1a, x2a, y2a = xc, yc, min(xc + w, s * 2), min(s * 2, yc + h)\n",
    "                x1b, y1b, x2b, y2b = 0, 0, min(w, x2a - x1a), min(y2a - y1a, h)\n",
    "            result_image[y1a:y2a, x1a:x2a] = image[y1b:y2b, x1b:x2b]\n",
    "            padw = x1a - x1b\n",
    "            padh = y1a - y1b\n",
    "\n",
    "            boxes[:, 0] += padw\n",
    "            boxes[:, 1] += padh\n",
    "            boxes[:, 2] += padw\n",
    "            boxes[:, 3] += padh\n",
    "\n",
    "            result_boxes.append(boxes)\n",
    "\n",
    "        result_boxes = np.concatenate(result_boxes, 0)\n",
    "        np.clip(result_boxes[:, 0:], 0, 2 * s, out=result_boxes[:, 0:])\n",
    "        result_boxes = result_boxes.astype(np.int32)\n",
    "        result_boxes = result_boxes[np.where((result_boxes[:,2]-result_boxes[:,0])*(result_boxes[:,3]-result_boxes[:,1]) > 0)]\n",
    "        return result_image, result_boxes"
   ]
  },
  {
   "cell_type": "code",
   "execution_count": 15,
   "metadata": {
    "execution": {
     "iopub.execute_input": "2021-03-22T11:39:39.113472Z",
     "iopub.status.busy": "2021-03-22T11:39:39.112349Z",
     "iopub.status.idle": "2021-03-22T11:39:39.118933Z",
     "shell.execute_reply": "2021-03-22T11:39:39.118303Z"
    },
    "papermill": {
     "duration": 1.704136,
     "end_time": "2021-03-22T11:39:39.119042",
     "exception": false,
     "start_time": "2021-03-22T11:39:37.414906",
     "status": "completed"
    },
    "tags": []
   },
   "outputs": [],
   "source": [
    "fold_number = 0\n",
    "\n",
    "train_dataset = DatasetRetriever(\n",
    "    image_ids=df_folds[df_folds['fold'] != fold_number].index.values,\n",
    "    marking=marking,\n",
    "    transforms=get_train_transforms(),\n",
    "    test=False,\n",
    ")\n",
    "\n",
    "validation_dataset = DatasetRetriever(\n",
    "    image_ids=df_folds[df_folds['fold'] == fold_number].index.values,\n",
    "    marking=marking,\n",
    "    transforms=get_valid_transforms(),\n",
    "    test=True,\n",
    ")"
   ]
  },
  {
   "cell_type": "code",
   "execution_count": 16,
   "metadata": {
    "execution": {
     "iopub.execute_input": "2021-03-22T11:39:42.472657Z",
     "iopub.status.busy": "2021-03-22T11:39:42.471467Z",
     "iopub.status.idle": "2021-03-22T11:39:42.486510Z",
     "shell.execute_reply": "2021-03-22T11:39:42.485807Z"
    },
    "papermill": {
     "duration": 1.694868,
     "end_time": "2021-03-22T11:39:42.486651",
     "exception": false,
     "start_time": "2021-03-22T11:39:40.791783",
     "status": "completed"
    },
    "tags": []
   },
   "outputs": [
    {
     "name": "stdout",
     "output_type": "stream",
     "text": [
      "          bbox_count   source stratify_group  fold\n",
      "image_id                                          \n",
      "0                  5  usask_1      usask_1_0     2\n",
      "2                  4  usask_1      usask_1_0     1\n",
      "3                  5  usask_1      usask_1_0     1\n",
      "5                  4  usask_1      usask_1_0     3\n",
      "6                  2  usask_1      usask_1_0     1\n",
      "1\n"
     ]
    }
   ],
   "source": [
    "data = df_folds[df_folds['fold'] != 0]\n",
    "print(data.head())\n",
    "print(min(data[\"bbox_count\"].values))"
   ]
  },
  {
   "cell_type": "code",
   "execution_count": 17,
   "metadata": {
    "execution": {
     "iopub.execute_input": "2021-03-22T11:39:46.327085Z",
     "iopub.status.busy": "2021-03-22T11:39:46.326301Z",
     "iopub.status.idle": "2021-03-22T11:39:46.752323Z",
     "shell.execute_reply": "2021-03-22T11:39:46.751749Z"
    },
    "papermill": {
     "duration": 2.59412,
     "end_time": "2021-03-22T11:39:46.752442",
     "exception": false,
     "start_time": "2021-03-22T11:39:44.158322",
     "status": "completed"
    },
    "tags": []
   },
   "outputs": [
    {
     "data": {
      "image/png": "[encoded data removed]",
      "text/plain": [
       "<Figure size 1152x576 with 1 Axes>"
      ]
     },
     "metadata": {
      "needs_background": "light"
     },
     "output_type": "display_data"
    }
   ],
   "source": [
    "image, target, image_id = train_dataset[1]\n",
    "boxes = target['boxes'].cpu().numpy().astype(np.int32)\n",
    "\n",
    "numpy_image = image.permute(1,2,0).cpu().numpy()\n",
    "\n",
    "fig, ax = plt.subplots(1, 1, figsize=(16, 8))\n",
    "\n",
    "for box in boxes:\n",
    "    cv2.rectangle(numpy_image, (box[1], box[0]), (box[3],  box[2]), (0, 1, 0), 2)\n",
    "    \n",
    "ax.set_axis_off()\n",
    "ax.imshow(numpy_image);"
   ]
  },
  {
   "cell_type": "markdown",
   "metadata": {
    "papermill": {
     "duration": 1.685825,
     "end_time": "2021-03-22T11:39:50.137923",
     "exception": false,
     "start_time": "2021-03-22T11:39:48.452098",
     "status": "completed"
    },
    "tags": []
   },
   "source": [
    "## Fitter"
   ]
  },
  {
   "cell_type": "code",
   "execution_count": 18,
   "metadata": {
    "execution": {
     "iopub.execute_input": "2021-03-22T11:39:53.959923Z",
     "iopub.status.busy": "2021-03-22T11:39:53.958834Z",
     "iopub.status.idle": "2021-03-22T11:39:53.969383Z",
     "shell.execute_reply": "2021-03-22T11:39:53.966709Z"
    },
    "papermill": {
     "duration": 2.181755,
     "end_time": "2021-03-22T11:39:53.969536",
     "exception": false,
     "start_time": "2021-03-22T11:39:51.787781",
     "status": "completed"
    },
    "tags": []
   },
   "outputs": [],
   "source": [
    "class AverageMeter(object):\n",
    "    \"\"\"Computes and stores the average and current value\"\"\"\n",
    "    def __init__(self):\n",
    "        self.reset()\n",
    "\n",
    "    def reset(self):\n",
    "        self.val = 0\n",
    "        self.avg = 0\n",
    "        self.sum = 0\n",
    "        self.count = 0\n",
    "\n",
    "    def update(self, val, n=1):\n",
    "        self.val = val\n",
    "        self.sum += val * n\n",
    "        self.count += n\n",
    "        self.avg = self.sum / self.count"
   ]
  },
  {
   "cell_type": "code",
   "execution_count": 19,
   "metadata": {
    "execution": {
     "iopub.execute_input": "2021-03-22T11:39:58.138231Z",
     "iopub.status.busy": "2021-03-22T11:39:58.132910Z",
     "iopub.status.idle": "2021-03-22T11:39:58.165404Z",
     "shell.execute_reply": "2021-03-22T11:39:58.164837Z"
    },
    "papermill": {
     "duration": 2.382034,
     "end_time": "2021-03-22T11:39:58.165527",
     "exception": false,
     "start_time": "2021-03-22T11:39:55.783493",
     "status": "completed"
    },
    "tags": []
   },
   "outputs": [],
   "source": [
    "import warnings\n",
    "\n",
    "warnings.filterwarnings(\"ignore\")\n",
    "\n",
    "class Fitter:\n",
    "    \n",
    "    def __init__(self, model, device, config):\n",
    "        self.config = config\n",
    "        self.epoch = 0\n",
    "\n",
    "        self.base_dir = f'./{config.folder}'\n",
    "        if not os.path.exists(self.base_dir):\n",
    "            os.makedirs(self.base_dir)\n",
    "        \n",
    "        self.log_path = f'{self.base_dir}/log.txt'\n",
    "        self.best_summary_loss = 10**5\n",
    "\n",
    "        self.model = model\n",
    "        self.device = device\n",
    "\n",
    "        param_optimizer = list(self.model.named_parameters())\n",
    "        no_decay = ['bias', 'LayerNorm.bias', 'LayerNorm.weight']\n",
    "        optimizer_grouped_parameters = [\n",
    "            {'params': [p for n, p in param_optimizer if not any(nd in n for nd in no_decay)], 'weight_decay': 0.001},\n",
    "            {'params': [p for n, p in param_optimizer if any(nd in n for nd in no_decay)], 'weight_decay': 0.0}\n",
    "        ] \n",
    "\n",
    "        self.optimizer = torch.optim.AdamW(self.model.parameters(), lr=config.lr)\n",
    "        self.scheduler = config.SchedulerClass(self.optimizer, **config.scheduler_params)\n",
    "        self.log(f'Fitter prepared. Device is {self.device}')\n",
    "\n",
    "    def fit(self, train_loader, validation_loader):\n",
    "        for e in range(self.config.n_epochs):\n",
    "            if self.config.verbose:\n",
    "                lr = self.optimizer.param_groups[0]['lr']\n",
    "                timestamp = datetime.utcnow().isoformat()\n",
    "                self.log(f'\\n{timestamp}\\nLR: {lr}')\n",
    "\n",
    "            t = time.time()\n",
    "            summary_loss = self.train_one_epoch(train_loader)\n",
    "\n",
    "            self.log(f'[RESULT]: Train. Epoch: {self.epoch}, summary_loss: {summary_loss.avg:.5f}, time: {(time.time() - t):.5f}')\n",
    "            self.save(f'{self.base_dir}/last-checkpoint.bin')\n",
    "\n",
    "            t = time.time()\n",
    "            summary_loss = self.validation(validation_loader)\n",
    "\n",
    "            self.log(f'[RESULT]: Val. Epoch: {self.epoch}, summary_loss: {summary_loss.avg:.5f}, time: {(time.time() - t):.5f}')\n",
    "            if summary_loss.avg < self.best_summary_loss:\n",
    "                self.best_summary_loss = summary_loss.avg\n",
    "                self.model.eval()\n",
    "                self.save(f'{self.base_dir}/best-checkpoint-{str(self.epoch).zfill(3)}epoch.bin')\n",
    "                for path in sorted(glob(f'{self.base_dir}/best-checkpoint-*epoch.bin'))[:-3]:\n",
    "                    os.remove(path)\n",
    "\n",
    "            if self.config.validation_scheduler:\n",
    "                self.scheduler.step(metrics=summary_loss.avg)\n",
    "\n",
    "            self.epoch += 1\n",
    "\n",
    "    def validation(self, val_loader):\n",
    "        self.model.eval()\n",
    "        summary_loss = AverageMeter()\n",
    "        t = time.time()\n",
    "        for step, (images, targets, image_ids) in enumerate(val_loader):\n",
    "            if self.config.verbose:\n",
    "                if step % self.config.verbose_step == 0:\n",
    "                    print(\n",
    "                        f'Val Step {step}/{len(val_loader)}, ' + \\\n",
    "                        f'summary_loss: {summary_loss.avg:.5f}, ' + \\\n",
    "                        f'time: {(time.time() - t):.5f}', end='\\r'\n",
    "                    )\n",
    "            with torch.no_grad():\n",
    "                images = torch.stack(images)\n",
    "                batch_size = images.shape[0]\n",
    "                images = images.to(self.device).float()\n",
    "                boxes = [target[\"boxes\"].to(self.device).float() if len(target[\"boxes\"]) > 0 \\\n",
    "                         else torch.empty((0, 4), dtype=torch.float32).to(self.device).float() for target in targets]\n",
    "                labels = [target[\"labels\"].to(self.device).float() for target in targets]\n",
    "                loss, _, _ = self.model(images, boxes, labels)\n",
    "                summary_loss.update(loss.detach().item(), batch_size)\n",
    "\n",
    "        return summary_loss\n",
    "\n",
    "    def train_one_epoch(self, train_loader):\n",
    "        self.model.train()\n",
    "        summary_loss = AverageMeter()\n",
    "        t = time.time()\n",
    "        for step, (images, targets, image_ids) in enumerate(train_loader):\n",
    "            if self.config.verbose:\n",
    "                if step % self.config.verbose_step == 0:\n",
    "                    print(\n",
    "                        f'Train Step {step}/{len(train_loader)}, ' + \\\n",
    "                        f'summary_loss: {summary_loss.avg:.5f}, ' + \\\n",
    "                        f'time: {(time.time() - t):.5f}', end='\\r'\n",
    "                    )\n",
    "            \n",
    "            images = torch.stack(images)\n",
    "            images = images.to(self.device).float()\n",
    "            batch_size = images.shape[0]\n",
    "#             print(targets[0][\"boxes\"].to(self.device))\n",
    "#             print(type(targets[0][\"boxes\"].to(self.device)))\n",
    "#             print(targets[0][\"boxes\"])\n",
    "#             print(type(targets[0][\"boxes\"]))\n",
    "            \n",
    "            boxes = [target[\"boxes\"].to(self.device).float() if len(target[\"boxes\"]) > 0 \\\n",
    "                     else torch.empty((0, 4), dtype=torch.float32).to(self.device).float() for target in targets]\n",
    "            labels = [target[\"labels\"].to(self.device).float() for target in targets]\n",
    "#             labels = [target[\"labels\"].to(self.device).float() if len(target[\"labels\"]) > 0 \\\n",
    "#                       else torch.empty((0, 4), dtype=tf.float32) for target in targets]\n",
    "\n",
    "            self.optimizer.zero_grad()\n",
    "            \n",
    "#             print(images)\n",
    "#             print(boxes)\n",
    "#             print(labels)\n",
    "            loss, _, _ = self.model(images, boxes, labels)\n",
    "            \n",
    "            loss.backward()\n",
    "\n",
    "            summary_loss.update(loss.detach().item(), batch_size)\n",
    "\n",
    "            self.optimizer.step()\n",
    "\n",
    "            if self.config.step_scheduler:\n",
    "                self.scheduler.step()\n",
    "\n",
    "        return summary_loss\n",
    "    \n",
    "    def save(self, path):\n",
    "        self.model.eval()\n",
    "        torch.save({\n",
    "            'model_state_dict': self.model.model.state_dict(),\n",
    "            'optimizer_state_dict': self.optimizer.state_dict(),\n",
    "            'scheduler_state_dict': self.scheduler.state_dict(),\n",
    "            'best_summary_loss': self.best_summary_loss,\n",
    "            'epoch': self.epoch,\n",
    "        }, path)\n",
    "\n",
    "    def load(self, path):\n",
    "        checkpoint = torch.load(path)\n",
    "        self.model.model.load_state_dict(checkpoint['model_state_dict'])\n",
    "        self.optimizer.load_state_dict(checkpoint['optimizer_state_dict'])\n",
    "        self.scheduler.load_state_dict(checkpoint['scheduler_state_dict'])\n",
    "        self.best_summary_loss = checkpoint['best_summary_loss']\n",
    "        self.epoch = checkpoint['epoch'] + 1\n",
    "        \n",
    "    def log(self, message):\n",
    "        if self.config.verbose:\n",
    "            print(message)\n",
    "        with open(self.log_path, 'a+') as logger:\n",
    "            logger.write(f'{message}\\n')"
   ]
  },
  {
   "cell_type": "code",
   "execution_count": 20,
   "metadata": {
    "execution": {
     "iopub.execute_input": "2021-03-22T11:40:01.501242Z",
     "iopub.status.busy": "2021-03-22T11:40:01.499960Z",
     "iopub.status.idle": "2021-03-22T11:40:01.503769Z",
     "shell.execute_reply": "2021-03-22T11:40:01.503212Z"
    },
    "papermill": {
     "duration": 1.675584,
     "end_time": "2021-03-22T11:40:01.503884",
     "exception": false,
     "start_time": "2021-03-22T11:39:59.828300",
     "status": "completed"
    },
    "tags": []
   },
   "outputs": [],
   "source": [
    "class TrainGlobalConfig:\n",
    "    num_workers = 4\n",
    "    batch_size = 16 \n",
    "    n_epochs = 12 # n_epochs = 40\n",
    "    lr = 0.0003\n",
    "\n",
    "    folder = 'effdet5-cutmix-augmix'\n",
    "\n",
    "    # -------------------\n",
    "    verbose = True\n",
    "    verbose_step = 1\n",
    "    # -------------------\n",
    "\n",
    "    # --------------------\n",
    "    step_scheduler = False  # do scheduler.step after optimizer.step\n",
    "    validation_scheduler = True  # do scheduler.step after validation stage loss\n",
    "\n",
    "#     SchedulerClass = torch.optim.lr_scheduler.OneCycleLR\n",
    "#     scheduler_params = dict(\n",
    "#         max_lr=0.001,\n",
    "#         epochs=n_epochs,\n",
    "#         steps_per_epoch=int(len(train_dataset) / batch_size),\n",
    "#         pct_start=0.1,\n",
    "#         anneal_strategy='cos', \n",
    "#         final_div_factor=10**5\n",
    "#     )\n",
    "    \n",
    "    SchedulerClass = torch.optim.lr_scheduler.ReduceLROnPlateau\n",
    "    scheduler_params = dict(\n",
    "        mode='min',\n",
    "        factor=0.5,\n",
    "        patience=1,\n",
    "        verbose=False, \n",
    "        threshold=0.0001,\n",
    "        threshold_mode='abs',\n",
    "        cooldown=0, \n",
    "        min_lr=1e-8,\n",
    "        eps=1e-08\n",
    "    )\n",
    "    # --------------------"
   ]
  },
  {
   "cell_type": "code",
   "execution_count": 21,
   "metadata": {
    "execution": {
     "iopub.execute_input": "2021-03-22T11:40:04.818598Z",
     "iopub.status.busy": "2021-03-22T11:40:04.817458Z",
     "iopub.status.idle": "2021-03-22T11:40:04.820552Z",
     "shell.execute_reply": "2021-03-22T11:40:04.821370Z"
    },
    "papermill": {
     "duration": 1.664674,
     "end_time": "2021-03-22T11:40:04.821554",
     "exception": false,
     "start_time": "2021-03-22T11:40:03.156880",
     "status": "completed"
    },
    "tags": []
   },
   "outputs": [],
   "source": [
    "# !conda install -c pytorch torchvision cudatoolkit=10.1 pytorch --yes"
   ]
  },
  {
   "cell_type": "code",
   "execution_count": 22,
   "metadata": {
    "execution": {
     "iopub.execute_input": "2021-03-22T11:40:08.836753Z",
     "iopub.status.busy": "2021-03-22T11:40:08.835598Z",
     "iopub.status.idle": "2021-03-22T11:40:08.839094Z",
     "shell.execute_reply": "2021-03-22T11:40:08.838589Z"
    },
    "papermill": {
     "duration": 2.29135,
     "end_time": "2021-03-22T11:40:08.839294",
     "exception": false,
     "start_time": "2021-03-22T11:40:06.547944",
     "status": "completed"
    },
    "tags": []
   },
   "outputs": [],
   "source": [
    "def collate_fn(batch):\n",
    "    return tuple(zip(*batch))\n",
    "\n",
    "def run_training():\n",
    "    device = torch.device('cuda')\n",
    "    net.to(device)\n",
    "\n",
    "    train_loader = torch.utils.data.DataLoader(\n",
    "        train_dataset,\n",
    "        batch_size=TrainGlobalConfig.batch_size,\n",
    "        sampler=RandomSampler(train_dataset),\n",
    "        pin_memory=False,\n",
    "        drop_last=True,\n",
    "        num_workers=TrainGlobalConfig.num_workers,\n",
    "        collate_fn=collate_fn,\n",
    "    )\n",
    "    val_loader = torch.utils.data.DataLoader(\n",
    "        validation_dataset, \n",
    "        batch_size=TrainGlobalConfig.batch_size,\n",
    "        num_workers=TrainGlobalConfig.num_workers,\n",
    "        shuffle=False,\n",
    "        sampler=SequentialSampler(validation_dataset),\n",
    "        pin_memory=False,\n",
    "        collate_fn=collate_fn,\n",
    "    )\n",
    "\n",
    "    fitter = Fitter(model=net, device=device, config=TrainGlobalConfig)\n",
    "    fitter.fit(train_loader, val_loader)"
   ]
  },
  {
   "cell_type": "code",
   "execution_count": 23,
   "metadata": {
    "execution": {
     "iopub.execute_input": "2021-03-22T11:40:12.175213Z",
     "iopub.status.busy": "2021-03-22T11:40:12.174535Z",
     "iopub.status.idle": "2021-03-22T11:40:17.373258Z",
     "shell.execute_reply": "2021-03-22T11:40:17.371794Z"
    },
    "papermill": {
     "duration": 6.855566,
     "end_time": "2021-03-22T11:40:17.373387",
     "exception": false,
     "start_time": "2021-03-22T11:40:10.517821",
     "status": "completed"
    },
    "tags": []
   },
   "outputs": [],
   "source": [
    "import tensorflow as tf"
   ]
  },
  {
   "cell_type": "code",
   "execution_count": 24,
   "metadata": {
    "execution": {
     "iopub.execute_input": "2021-03-22T11:40:21.391336Z",
     "iopub.status.busy": "2021-03-22T11:40:21.390614Z",
     "iopub.status.idle": "2021-03-22T11:40:25.716733Z",
     "shell.execute_reply": "2021-03-22T11:40:25.716158Z"
    },
    "papermill": {
     "duration": 6.046514,
     "end_time": "2021-03-22T11:40:25.716855",
     "exception": false,
     "start_time": "2021-03-22T11:40:19.670341",
     "status": "completed"
    },
    "tags": []
   },
   "outputs": [],
   "source": [
    "from effdet import get_efficientdet_config, EfficientDet, DetBenchTrain\n",
    "from effdet.efficientdet import HeadNet\n",
    "\n",
    "def get_net():\n",
    "    config = get_efficientdet_config('tf_efficientdet_d5')\n",
    "    net = EfficientDet(config, pretrained_backbone=False)\n",
    "    checkpoint = torch.load('../input/efficientdet/efficientdet_d5-ef44aea8.pth')\n",
    "    net.load_state_dict(checkpoint)\n",
    "    config.num_classes = 1\n",
    "    config.image_size = 256\n",
    "    net.class_net = HeadNet(config, num_outputs=config.num_classes, norm_kwargs=dict(eps=.001, momentum=.01))\n",
    "    return DetBenchTrain(net, config)\n",
    "\n",
    "net = get_net()"
   ]
  },
  {
   "cell_type": "code",
   "execution_count": 25,
   "metadata": {
    "execution": {
     "iopub.execute_input": "2021-03-22T11:40:30.125422Z",
     "iopub.status.busy": "2021-03-22T11:40:30.124455Z",
     "iopub.status.idle": "2021-03-22T11:40:30.128865Z",
     "shell.execute_reply": "2021-03-22T11:40:30.129691Z"
    },
    "papermill": {
     "duration": 2.085492,
     "end_time": "2021-03-22T11:40:30.129882",
     "exception": false,
     "start_time": "2021-03-22T11:40:28.044390",
     "status": "completed"
    },
    "tags": []
   },
   "outputs": [],
   "source": [
    "pass"
   ]
  },
  {
   "cell_type": "code",
   "execution_count": 26,
   "metadata": {
    "execution": {
     "iopub.execute_input": "2021-03-22T11:40:34.036549Z",
     "iopub.status.busy": "2021-03-22T11:40:34.035762Z",
     "iopub.status.idle": "2021-03-22T17:52:02.288378Z",
     "shell.execute_reply": "2021-03-22T17:52:02.263733Z"
    },
    "papermill": {
     "duration": 22290.303967,
     "end_time": "2021-03-22T17:52:02.288552",
     "exception": false,
     "start_time": "2021-03-22T11:40:31.984585",
     "status": "completed"
    },
    "tags": []
   },
   "outputs": [
    {
     "name": "stdout",
     "output_type": "stream",
     "text": [
      "Fitter prepared. Device is cuda\n",
      "\n",
      "2021-03-22T11:40:39.962912\n",
      "LR: 0.0003\n",
      "[RESULT]: Train. Epoch: 0, summary_loss: 27.34109, time: 1622.66003\n",
      "[RESULT]: Val. Epoch: 0, summary_loss: 0.63244, time: 257.73599\n",
      "\n",
      "2021-03-22T12:12:02.028470\n",
      "LR: 0.0003\n",
      "[RESULT]: Train. Epoch: 1, summary_loss: 0.41277, time: 1600.63797\n",
      "[RESULT]: Val. Epoch: 1, summary_loss: 0.28210, time: 262.80800\n",
      "\n",
      "2021-03-22T12:43:07.269206\n",
      "LR: 0.0003\n",
      "[RESULT]: Train. Epoch: 2, summary_loss: 0.27560, time: 1602.71044\n",
      "[RESULT]: Val. Epoch: 2, summary_loss: 0.25600, time: 258.30369\n",
      "\n",
      "2021-03-22T13:14:10.047981\n",
      "LR: 0.0003\n",
      "[RESULT]: Train. Epoch: 3, summary_loss: 0.24006, time: 1592.89799\n",
      "[RESULT]: Val. Epoch: 3, summary_loss: 0.20607, time: 262.42709\n",
      "\n",
      "2021-03-22T13:45:07.198621\n",
      "LR: 0.0003\n",
      "[RESULT]: Train. Epoch: 4, summary_loss: 0.22087, time: 1594.20224\n",
      "[RESULT]: Val. Epoch: 4, summary_loss: 0.19563, time: 259.95399\n",
      "\n",
      "2021-03-22T14:16:03.176341\n",
      "LR: 0.0003\n",
      "[RESULT]: Train. Epoch: 5, summary_loss: 0.21141, time: 1581.15295\n",
      "[RESULT]: Val. Epoch: 5, summary_loss: 0.21699, time: 259.14431\n",
      "\n",
      "2021-03-22T14:46:44.541513\n",
      "LR: 0.0003\n",
      "[RESULT]: Train. Epoch: 6, summary_loss: 0.20189, time: 1595.24993\n",
      "[RESULT]: Val. Epoch: 6, summary_loss: 0.18538, time: 258.53520\n",
      "\n",
      "2021-03-22T15:17:40.404263\n",
      "LR: 0.0003\n",
      "[RESULT]: Train. Epoch: 7, summary_loss: 0.19298, time: 1579.37410\n",
      "[RESULT]: Val. Epoch: 7, summary_loss: 0.18068, time: 257.35002\n",
      "\n",
      "2021-03-22T15:48:19.229910\n",
      "LR: 0.0003\n",
      "[RESULT]: Train. Epoch: 8, summary_loss: 0.18889, time: 1595.73934\n",
      "[RESULT]: Val. Epoch: 8, summary_loss: 0.16924, time: 256.89207\n",
      "\n",
      "2021-03-22T16:19:13.888033\n",
      "LR: 0.0003\n",
      "[RESULT]: Train. Epoch: 9, summary_loss: 0.18402, time: 1580.09571\n",
      "[RESULT]: Val. Epoch: 9, summary_loss: 0.16921, time: 257.87917\n",
      "\n",
      "2021-03-22T16:49:53.695630\n",
      "LR: 0.0003\n",
      "[RESULT]: Train. Epoch: 10, summary_loss: 0.17902, time: 1611.46493\n",
      "[RESULT]: Val. Epoch: 10, summary_loss: 0.16850, time: 257.78030\n",
      "\n",
      "2021-03-22T17:21:06.006962\n",
      "LR: 0.0003\n",
      "[RESULT]: Train. Epoch: 11, summary_loss: 0.17395, time: 1599.25518\n",
      "[RESULT]: Val. Epoch: 11, summary_loss: 0.16208, time: 252.34381\n"
     ]
    }
   ],
   "source": [
    "run_training()"
   ]
  },
  {
   "cell_type": "markdown",
   "metadata": {
    "papermill": {
     "duration": 7.470139,
     "end_time": "2021-03-22T17:52:18.363669",
     "exception": false,
     "start_time": "2021-03-22T17:52:10.893530",
     "status": "completed"
    },
    "tags": []
   },
   "source": [
    "### Thank you for reading my kernel!\n",
    "\n",
    "So, I have prepared good training SOTA-model baseline for you, my friends! I have used n_epochs = 40 and have got best checkpoint single model that gives 0.7176 LB. You can see [here](https://www.kaggle.com/shonenkov/inference-efficientdet) inference kernel.\n",
    "\n",
    "Just recently I have started publishing my works, if you like this format of notebooks I would like continue to make kernels."
   ]
  }
 ],
 "metadata": {
  "kernelspec": {
   "display_name": "Python 3",
   "language": "python",
   "name": "python3"
  },
  "language_info": {
   "codemirror_mode": {
    "name": "ipython",
    "version": 3
   },
   "file_extension": ".py",
   "mimetype": "text/x-python",
   "name": "python",
   "nbconvert_exporter": "python",
   "pygments_lexer": "ipython3",
   "version": "3.7.6"
  },
  "papermill": {
   "duration": 22998.014626,
   "end_time": "2021-03-22T17:52:27.371462",
   "environment_variables": {},
   "exception": null,
   "input_path": "__notebook__.ipynb",
   "output_path": "__notebook__.ipynb",
   "parameters": {},
   "start_time": "2021-03-22T11:29:09.356836",
   "version": "2.1.0"
  }
 },
 "nbformat": 4,
 "nbformat_minor": 4
}
